{
 "cells": [
  {
   "cell_type": "code",
   "execution_count": 2,
   "metadata": {},
   "outputs": [
    {
     "name": "stderr",
     "output_type": "stream",
     "text": [
      "c:\\Users\\dhruv\\AppData\\Local\\Programs\\Python\\Python311\\Lib\\site-packages\\tqdm\\auto.py:21: TqdmWarning: IProgress not found. Please update jupyter and ipywidgets. See https://ipywidgets.readthedocs.io/en/stable/user_install.html\n",
      "  from .autonotebook import tqdm as notebook_tqdm\n"
     ]
    }
   ],
   "source": [
    "import spacy\n",
    "nlp = spacy.load(\"en_core_web_trf\")"
   ]
  },
  {
   "cell_type": "code",
   "execution_count": 3,
   "metadata": {},
   "outputs": [],
   "source": [
    "def show_ents(doc):\n",
    "    if doc.ents:\n",
    "        for ent in doc.ents:\n",
    "            print(f\"{ent.text} - {ent.label_} - {str(spacy.explain(ent.label_))}\")\n",
    "    else:\n",
    "        print(\"No entities found!\")\n",
    "\n",
    "from spacy import displacy\n",
    "def render_ents(doc):\n",
    "    if doc.ents:\n",
    "        displacy.render(doc,style='ent')\n",
    "    else:\n",
    "        print(\"No entities found!\")"
   ]
  },
  {
   "cell_type": "code",
   "execution_count": 4,
   "metadata": {},
   "outputs": [],
   "source": [
    "# import openpyxl module\n",
    "import openpyxl\n",
    "\n",
    "# location of the file\n",
    "path = \"sample-dataset-address.xlsx\"\n",
    "\n",
    "# To open the workbook, workbook object is created\n",
    "wb_obj = openpyxl.load_workbook(path)\n",
    "\n",
    "# Get workbook active sheet object\n",
    "# from the active attribute\n",
    "sheet_obj = wb_obj.active"
   ]
  },
  {
   "cell_type": "code",
   "execution_count": 5,
   "metadata": {},
   "outputs": [],
   "source": [
    "# Cell object is created by using\n",
    "# sheet object's cell() method.\n",
    "cell_obj = sheet_obj.cell(row = 1, column = 1)\n",
    "\n",
    "# Print value of cell object\n",
    "# using the value attribute\n",
    "text = cell_obj.value"
   ]
  },
  {
   "cell_type": "code",
   "execution_count": 6,
   "metadata": {},
   "outputs": [],
   "source": [
    "doc = nlp(text)"
   ]
  },
  {
   "cell_type": "code",
   "execution_count": 7,
   "metadata": {},
   "outputs": [
    {
     "data": {
      "text/html": [
       "<span class=\"tex2jax_ignore\"><div class=\"entities\" style=\"line-height: 2.5; direction: ltr\"> 1.1 PRODUCT IDENTIFIERS</br> PRODUCT NAME * MRS \n",
       "<mark class=\"entity\" style=\"background: #aa9cfc; padding: 0.45em 0.6em; margin: 0 0.25em; line-height: 1; border-radius: 0.35em;\">\n",
       "    BROTH\n",
       "    <span style=\"font-size: 0.8em; font-weight: bold; line-height: 1; border-radius: 0.35em; vertical-align: middle; margin-left: 0.5rem\">PERSON</span>\n",
       "</mark>\n",
       " (DE MAN, \n",
       "<mark class=\"entity\" style=\"background: #aa9cfc; padding: 0.45em 0.6em; margin: 0 0.25em; line-height: 1; border-radius: 0.35em;\">\n",
       "    ROGOSA\n",
       "    <span style=\"font-size: 0.8em; font-weight: bold; line-height: 1; border-radius: 0.35em; vertical-align: middle; margin-left: 0.5rem\">PERSON</span>\n",
       "</mark>\n",
       " AND \n",
       "<mark class=\"entity\" style=\"background: #aa9cfc; padding: 0.45em 0.6em; margin: 0 0.25em; line-height: 1; border-radius: 0.35em;\">\n",
       "    SHARPE\n",
       "    <span style=\"font-size: 0.8em; font-weight: bold; line-height: 1; border-radius: 0.35em; vertical-align: middle; margin-left: 0.5rem\">PERSON</span>\n",
       "</mark>\n",
       ")</br> GRANUCULTÂ®</br> PRODUCT NUMBER : 1.10661</br> CATALOGUE NO. : 110661</br> BRAND : MILLIPORE</br> 1.2 RELEVANT IDENTIFIED USES OF THE SUBSTANCE OR MIXTURE AND USES ADVISED AGAINST</br> IDENTIFIED USES : REAGENT FOR ANALYSIS</br> \n",
       "<mark class=\"entity\" style=\"background: #e4e7d2; padding: 0.45em 0.6em; margin: 0 0.25em; line-height: 1; border-radius: 0.35em;\">\n",
       "    1.3\n",
       "    <span style=\"font-size: 0.8em; font-weight: bold; line-height: 1; border-radius: 0.35em; vertical-align: middle; margin-left: 0.5rem\">CARDINAL</span>\n",
       "</mark>\n",
       ". DETAILS OF THE SUPPLIER OF THE SAFETY DATA SHEET</br> COMPANY : \n",
       "<mark class=\"entity\" style=\"background: #7aecec; padding: 0.45em 0.6em; margin: 0 0.25em; line-height: 1; border-radius: 0.35em;\">\n",
       "    SIGMA-ALDRICH INC.\n",
       "    <span style=\"font-size: 0.8em; font-weight: bold; line-height: 1; border-radius: 0.35em; vertical-align: middle; margin-left: 0.5rem\">ORG</span>\n",
       "</mark>\n",
       "</br> 3050 SPRUCE ST, \n",
       "<mark class=\"entity\" style=\"background: #feca74; padding: 0.45em 0.6em; margin: 0 0.25em; line-height: 1; border-radius: 0.35em;\">\n",
       "    ST. LOUIS MO\n",
       "    <span style=\"font-size: 0.8em; font-weight: bold; line-height: 1; border-radius: 0.35em; vertical-align: middle; margin-left: 0.5rem\">GPE</span>\n",
       "</mark>\n",
       " 63103, \n",
       "<mark class=\"entity\" style=\"background: #feca74; padding: 0.45em 0.6em; margin: 0 0.25em; line-height: 1; border-radius: 0.35em;\">\n",
       "    UNITED STATES OF AMERICA\n",
       "    <span style=\"font-size: 0.8em; font-weight: bold; line-height: 1; border-radius: 0.35em; vertical-align: middle; margin-left: 0.5rem\">GPE</span>\n",
       "</mark>\n",
       "</br> TELEPHONE : +1 314 771-5765</br> FAX : +1 800 325-5052</br> 1.4 EMERGENCY TELEPHONE</br> EMERGENCY PHONE # : 800-424-9300 CHEMTREC (\n",
       "<mark class=\"entity\" style=\"background: #feca74; padding: 0.45em 0.6em; margin: 0 0.25em; line-height: 1; border-radius: 0.35em;\">\n",
       "    USA\n",
       "    <span style=\"font-size: 0.8em; font-weight: bold; line-height: 1; border-radius: 0.35em; vertical-align: middle; margin-left: 0.5rem\">GPE</span>\n",
       "</mark>\n",
       ") +1-703-</br> 527-3887 CHEMTREC (INTERNATIONAL) \n",
       "<mark class=\"entity\" style=\"background: #bfe1d9; padding: 0.45em 0.6em; margin: 0 0.25em; line-height: 1; border-radius: 0.35em;\">\n",
       "    24\n",
       " HOURS/DAY\n",
       "    <span style=\"font-size: 0.8em; font-weight: bold; line-height: 1; border-radius: 0.35em; vertical-align: middle; margin-left: 0.5rem\">DATE</span>\n",
       "</mark>\n",
       "; \n",
       "<mark class=\"entity\" style=\"background: #bfe1d9; padding: 0.45em 0.6em; margin: 0 0.25em; line-height: 1; border-radius: 0.35em;\">\n",
       "    7 DAYS/WEEK\n",
       "    <span style=\"font-size: 0.8em; font-weight: bold; line-height: 1; border-radius: 0.35em; vertical-align: middle; margin-left: 0.5rem\">DATE</span>\n",
       "</mark>\n",
       "</br></div></span>"
      ],
      "text/plain": [
       "<IPython.core.display.HTML object>"
      ]
     },
     "metadata": {},
     "output_type": "display_data"
    }
   ],
   "source": [
    "render_ents(doc)"
   ]
  },
  {
   "cell_type": "markdown",
   "metadata": {},
   "source": [
    "#### `Pyap`\n",
    "Pyap is a text-processing library for address parsers. Currently, it supports USA, Canadian and British addresses. Pyap is based on regular expression and hence its execution is faster."
   ]
  },
  {
   "cell_type": "code",
   "execution_count": 8,
   "metadata": {},
   "outputs": [
    {
     "name": "stdout",
     "output_type": "stream",
     "text": [
      "3050 SPRUCE ST, ST. LOUIS MO 63103\n"
     ]
    },
    {
     "data": {
      "text/plain": [
       "1"
      ]
     },
     "execution_count": 8,
     "metadata": {},
     "output_type": "execute_result"
    }
   ],
   "source": [
    "# %pip install pyap\n",
    "import pyap\n",
    "address = pyap.parse(text,country='US')\n",
    "for ad in address:\n",
    "    print(ad)\n",
    "\n",
    "len(address)"
   ]
  },
  {
   "cell_type": "markdown",
   "metadata": {},
   "source": [
    "##### `We can clearly see that it extracted the address successfully.`<br> `Now we can write the code for extracting all the value from the sheet and saving it in the another column`\n"
   ]
  },
  {
   "cell_type": "code",
   "execution_count": 9,
   "metadata": {},
   "outputs": [
    {
     "name": "stdout",
     "output_type": "stream",
     "text": [
      "Total Rows: 49\n",
      "Total Columns: 3\n"
     ]
    }
   ],
   "source": [
    "# getting max row and column values:\n",
    "rows = sheet_obj.max_row\n",
    "columns = sheet_obj.max_column\n",
    "print(\"Total Rows:\", rows)\n",
    "print(\"Total Columns:\", columns)"
   ]
  },
  {
   "cell_type": "markdown",
   "metadata": {},
   "source": [
    "`Function for passing the text through pyap.parser`"
   ]
  },
  {
   "cell_type": "code",
   "execution_count": 11,
   "metadata": {},
   "outputs": [],
   "source": [
    "def find_address(text):\n",
    "    import pyap\n",
    "    address = pyap.parse(text,country='US')\n",
    "    return str(address[0])+\", UNITED STATES\"   #since it is stored in list and we have already given US as country"
   ]
  },
  {
   "cell_type": "markdown",
   "metadata": {},
   "source": [
    "`Function for complete extracting of the address from the text and storing in the next column`"
   ]
  },
  {
   "cell_type": "code",
   "execution_count": 12,
   "metadata": {},
   "outputs": [],
   "source": [
    "def extract_address(path):\n",
    "    # import openpyxl module\n",
    "    import openpyxl\n",
    "\n",
    "    # To open the workbook, workbook object is created\n",
    "    wb_obj = openpyxl.load_workbook(path)\n",
    "\n",
    "    # Get workbook active sheet object\n",
    "    # from the active attribute\n",
    "    sheet_obj = wb_obj.active\n",
    "    rows = sheet_obj.max_row\n",
    "    columns = sheet_obj.max_column\n",
    "    \n",
    "    for i in range(rows):\n",
    "        cell_obj = sheet_obj.cell(row = i+1, column = 1)\n",
    "        text = cell_obj.value\n",
    "        address = find_address(text)\n",
    "\n",
    "        #export values to other column\n",
    "        cell_obj = sheet_obj.cell(row = i+1, column = 3)\n",
    "        cell_obj.value = address\n",
    "    \n",
    "    wb_obj.save(path)\n",
    "    "
   ]
  },
  {
   "cell_type": "code",
   "execution_count": 13,
   "metadata": {},
   "outputs": [],
   "source": [
    "path = \"sample-dataset-address.xlsx\"\n",
    "extract_address(path)"
   ]
  },
  {
   "cell_type": "code",
   "execution_count": 14,
   "metadata": {},
   "outputs": [],
   "source": [
    "import pandas as pd\n",
    "data = pd.read_excel(path)"
   ]
  },
  {
   "cell_type": "markdown",
   "metadata": {},
   "source": [
    "`We can see the output here!`"
   ]
  },
  {
   "cell_type": "code",
   "execution_count": 16,
   "metadata": {},
   "outputs": [
    {
     "data": {
      "text/html": [
       "<div>\n",
       "<style scoped>\n",
       "    .dataframe tbody tr th:only-of-type {\n",
       "        vertical-align: middle;\n",
       "    }\n",
       "\n",
       "    .dataframe tbody tr th {\n",
       "        vertical-align: top;\n",
       "    }\n",
       "\n",
       "    .dataframe thead th {\n",
       "        text-align: right;\n",
       "    }\n",
       "</style>\n",
       "<table border=\"1\" class=\"dataframe\">\n",
       "  <thead>\n",
       "    <tr style=\"text-align: right;\">\n",
       "      <th></th>\n",
       "      <th>1.1 PRODUCT IDENTIFIERS\\n PRODUCT NAME * MRS BROTH (DE MAN, ROGOSA AND SHARPE)\\n GRANUCULTÂ®\\n PRODUCT NUMBER : 1.10661\\n CATALOGUE NO. : 110661\\n BRAND : MILLIPORE\\n 1.2 RELEVANT IDENTIFIED USES OF THE SUBSTANCE OR MIXTURE AND USES ADVISED AGAINST\\n IDENTIFIED USES : REAGENT FOR ANALYSIS\\n 1.3. DETAILS OF THE SUPPLIER OF THE SAFETY DATA SHEET\\n COMPANY : SIGMA-ALDRICH INC.\\n 3050 SPRUCE ST, ST. LOUIS MO 63103, UNITED STATES OF AMERICA\\n TELEPHONE : +1 314 771-5765\\n FAX : +1 800 325-5052\\n 1.4 EMERGENCY TELEPHONE\\n EMERGENCY PHONE # : 800-424-9300 CHEMTREC (USA) +1-703-\\n 527-3887 CHEMTREC (INTERNATIONAL) 24\\n HOURS/DAY; 7 DAYS/WEEK\\n</th>\n",
       "      <th>3050 SPRUCE ST\\n ST. LOUIS MO 63103\\n UNITED STATES</th>\n",
       "      <th>3050 SPRUCE ST, ST. LOUIS MO 63103, UNITED STATES</th>\n",
       "    </tr>\n",
       "  </thead>\n",
       "  <tbody>\n",
       "    <tr>\n",
       "      <th>0</th>\n",
       "      <td>1.1 PRODUCT IDENTIFIERS\\n PRODUCT NAME : SODI...</td>\n",
       "      <td>3050 SPRUCE ST\\n ST. LOUIS MO 63103\\n UNITED ...</td>\n",
       "      <td>3050 SPRUCE ST, ST. LOUIS MO 63103, UNITED STATES</td>\n",
       "    </tr>\n",
       "    <tr>\n",
       "      <th>1</th>\n",
       "      <td>1.1 PRODUCT IDENTIFIERS\\n PRODUCT NAME &gt; TRIF...</td>\n",
       "      <td>3050 SPRUCE ST\\n ST. LOUIS MO 63103\\n UNITED S...</td>\n",
       "      <td>3050 SPRUCE ST, ST. LOUIS MO 63103, UNITED STATES</td>\n",
       "    </tr>\n",
       "    <tr>\n",
       "      <th>2</th>\n",
       "      <td>1.1 PRODUCT IDENTIFIERS\\n PRODUCT NAME &gt; DIME...</td>\n",
       "      <td>3050 SPRUCE ST\\n ST. LOUIS MO 63103\\n UNITED ...</td>\n",
       "      <td>3050 SPRUCE ST, ST. LOUIS MO 63103, UNITED STATES</td>\n",
       "    </tr>\n",
       "    <tr>\n",
       "      <th>3</th>\n",
       "      <td>1.1. PRODUCT IDENTIFIERS\\n PRODUCT NAME &gt; CAL...</td>\n",
       "      <td>NaN</td>\n",
       "      <td>3050 SPRUCE ST, ST. LOUIS MO 63103, UNITED STATES</td>\n",
       "    </tr>\n",
       "    <tr>\n",
       "      <th>4</th>\n",
       "      <td>1.1 PRODUCT IDENTIFIERS\\n PRODUCT NAME : FOLI...</td>\n",
       "      <td>NaN</td>\n",
       "      <td>3050 SPRUCE ST, ST. LOUIS MO 63103, UNITED STATES</td>\n",
       "    </tr>\n",
       "  </tbody>\n",
       "</table>\n",
       "</div>"
      ],
      "text/plain": [
       "   1.1 PRODUCT IDENTIFIERS\\n PRODUCT NAME * MRS BROTH (DE MAN, ROGOSA AND SHARPE)\\n GRANUCULTÂ®\\n PRODUCT NUMBER : 1.10661\\n CATALOGUE NO. : 110661\\n BRAND : MILLIPORE\\n 1.2 RELEVANT IDENTIFIED USES OF THE SUBSTANCE OR MIXTURE AND USES ADVISED AGAINST\\n IDENTIFIED USES : REAGENT FOR ANALYSIS\\n 1.3. DETAILS OF THE SUPPLIER OF THE SAFETY DATA SHEET\\n COMPANY : SIGMA-ALDRICH INC.\\n 3050 SPRUCE ST, ST. LOUIS MO 63103, UNITED STATES OF AMERICA\\n TELEPHONE : +1 314 771-5765\\n FAX : +1 800 325-5052\\n 1.4 EMERGENCY TELEPHONE\\n EMERGENCY PHONE # : 800-424-9300 CHEMTREC (USA) +1-703-\\n 527-3887 CHEMTREC (INTERNATIONAL) 24\\n HOURS/DAY; 7 DAYS/WEEK\\n  \\\n",
       "0   1.1 PRODUCT IDENTIFIERS\\n PRODUCT NAME : SODI...                                                                                                                                                                                                                                                                                                                                                                                                                                                                                                                                                                                                                     \n",
       "1   1.1 PRODUCT IDENTIFIERS\\n PRODUCT NAME > TRIF...                                                                                                                                                                                                                                                                                                                                                                                                                                                                                                                                                                                                                     \n",
       "2   1.1 PRODUCT IDENTIFIERS\\n PRODUCT NAME > DIME...                                                                                                                                                                                                                                                                                                                                                                                                                                                                                                                                                                                                                     \n",
       "3   1.1. PRODUCT IDENTIFIERS\\n PRODUCT NAME > CAL...                                                                                                                                                                                                                                                                                                                                                                                                                                                                                                                                                                                                                     \n",
       "4   1.1 PRODUCT IDENTIFIERS\\n PRODUCT NAME : FOLI...                                                                                                                                                                                                                                                                                                                                                                                                                                                                                                                                                                                                                     \n",
       "\n",
       "  3050 SPRUCE ST\\n ST. LOUIS MO 63103\\n UNITED STATES  \\\n",
       "0   3050 SPRUCE ST\\n ST. LOUIS MO 63103\\n UNITED ...    \n",
       "1  3050 SPRUCE ST\\n ST. LOUIS MO 63103\\n UNITED S...    \n",
       "2   3050 SPRUCE ST\\n ST. LOUIS MO 63103\\n UNITED ...    \n",
       "3                                                NaN    \n",
       "4                                                NaN    \n",
       "\n",
       "   3050 SPRUCE ST, ST. LOUIS MO 63103, UNITED STATES  \n",
       "0  3050 SPRUCE ST, ST. LOUIS MO 63103, UNITED STATES  \n",
       "1  3050 SPRUCE ST, ST. LOUIS MO 63103, UNITED STATES  \n",
       "2  3050 SPRUCE ST, ST. LOUIS MO 63103, UNITED STATES  \n",
       "3  3050 SPRUCE ST, ST. LOUIS MO 63103, UNITED STATES  \n",
       "4  3050 SPRUCE ST, ST. LOUIS MO 63103, UNITED STATES  "
      ]
     },
     "execution_count": 16,
     "metadata": {},
     "output_type": "execute_result"
    }
   ],
   "source": [
    "data.head()"
   ]
  },
  {
   "cell_type": "code",
   "execution_count": null,
   "metadata": {},
   "outputs": [],
   "source": []
  }
 ],
 "metadata": {
  "kernelspec": {
   "display_name": "Python 3",
   "language": "python",
   "name": "python3"
  },
  "language_info": {
   "codemirror_mode": {
    "name": "ipython",
    "version": 3
   },
   "file_extension": ".py",
   "mimetype": "text/x-python",
   "name": "python",
   "nbconvert_exporter": "python",
   "pygments_lexer": "ipython3",
   "version": "3.11.4"
  },
  "orig_nbformat": 4
 },
 "nbformat": 4,
 "nbformat_minor": 2
}
