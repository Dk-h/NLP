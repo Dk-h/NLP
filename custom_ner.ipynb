{
 "cells": [
  {
   "attachments": {},
   "cell_type": "markdown",
   "metadata": {},
   "source": [
    "### 1. Setting-up spacy Environment"
   ]
  },
  {
   "cell_type": "code",
   "execution_count": 18,
   "metadata": {},
   "outputs": [],
   "source": [
    "# importing spacy\n",
    "import spacy\n",
    "\n",
    "# loading the language model for tekenizatoin and stuffs from spacy\n",
    "nlp = spacy.load('en_core_web_sm')\n",
    "\n",
    "# reading texts from txt file\n",
    "with open(\"wiki_fiction.txt\", \"r\", encoding=\"utf-8\") as f:\n",
    "  text = f.read()\n",
    "  "
   ]
  },
  {
   "cell_type": "code",
   "execution_count": 19,
   "metadata": {},
   "outputs": [
    {
     "name": "stdout",
     "output_type": "stream",
     "text": [
      "Science fiction (sometimes shortened to sf or sci-fi) is a genre of speculative fiction, which typically deals with imaginative and futuristic concepts such as advanced science and technology, space exploration, time travel, parallel universes, and extraterrestrial life. Science fiction can trace its roots to ancient mythology.[1] It is related to fantasy, horror, and superhero fiction and contains many subgenres. Its exact definition has long been disputed among authors, critics, scholars, and readers.\n",
      "\n",
      "Science fiction, in literature, film, television, and other media, has become popular and influential over much of the world. It has been called the \"literature of ideas,\" and often explores the potential consequences of scientific, social, and technological innovations.[2][3] It sometimes serves as an outlet to facilitate future scientific and technological innovations.[4] Besides providing entertainment, it can also criticize present-day society and explore alternatives. It is also often said to inspire a \"sense of wonder.\"[5]\n",
      "\n",
      "Definitions\n",
      "Main article: Definitions of science fiction\n",
      "According to Isaac Asimov, \"Science fiction can be defined as that branch of literature which deals with the reaction of human beings to changes in science and technology.\"[6] Robert A. Heinlein wrote that \"A handy short definition of almost all science fiction might read: realistic speculation about possible future events, based solidly on adequate knowledge of the real world, past and present, and on a thorough understanding of the nature and significance of the scientific method.\"[7]\n",
      "\n",
      "American science fiction author and editor Lester del Rey wrote, \"Even the devoted aficionado or fan—has a hard time trying to explain what science fiction is,\" and the lack of a \"full satisfactory definition\" is because \"there are no easily delineated limits to science fiction.\"[8]\n",
      "\n",
      "Part of the reason that it is so difficult to pin down an agreed definition of science fiction is because there is a tendency among science fiction enthusiasts to act as their own arbiter in deciding what exactly constitutes science fiction.[9] Damon Knight summed up the difficulty, saying \"Science fiction is what we point to when we say it.\"[10] David Seed says it may be more useful to talk about science fiction as the intersection of other, more concrete, genres and subgenres.[11]\n",
      "\n",
      "Alternative terms\n",
      "Further information: Skiffy\n",
      "Forrest J Ackerman has been credited with first using the term \"sci-fi\" (analogous to the then-trendy \"hi-fi\") in about 1954;[12] the first known use in print was a description of Donovan's Brain by movie critic Jesse Zunser in January 1954.[13] As science fiction entered popular culture, writers and fans active in the field came to associate the term with low-budget, low-tech \"B-movies\" and with low-quality pulp science fiction.[14][15][16] By the 1970s, critics within the field, such as Damon Knight and Terry Carr, were using \"sci fi\" to distinguish hack-work from serious science fiction.[17] Peter Nicholls writes that \"SF\" (or \"sf\") is \"the preferred abbreviation within the community of sf writers and readers.\"[18] Robert Heinlein found even \"science fiction\" insufficient for certain types of works in this genre, and suggested the term speculative fiction to be used instead for those that are more \"serious\" or \"thoughtful.\"[19]\n",
      "\n",
      "History\n",
      "Main articles: History of science fiction and Timeline of science fiction\n",
      "\n",
      "H. G. Wells\n",
      "Some scholars assert that science fiction had its beginnings in ancient times, when the line between myth and fact was blurred.[20] Written in the 2nd century CE by the satirist Lucian, A True Story contains many themes and tropes characteristic of modern science fiction, including travel to other worlds, extraterrestrial lifeforms, interplanetary warfare, and artificial life. Some consider it the first science-fiction novel.[21] Some of the stories from The Arabian Nights,[22][23] along with the 10th-century The Tale of the Bamboo Cutter[23] and Ibn al-Nafis's 13th-century Theologus Autodidactus,[24] also contain elements of science fiction.\n",
      "\n",
      "Written during the Scientific Revolution and the Age of Enlightenment, Johannes Kepler's Somnium (1634), Francis Bacon's New Atlantis (1627),[25] Athanasius Kircher's Itinerarium extaticum (1656),[26] Cyrano de Bergerac's Comical History of the States and Empires of the Moon (1657) and The States and Empires of the Sun (1662), Margaret Cavendish's \"The Blazing World\" (1666),[27][28][29][30] Jonathan Swift's Gulliver's Travels (1726), Ludvig Holberg's Nicolai Klimii Iter Subterraneum (1741) and Voltaire's Micromégas (1752) are sometimes regarded as some of the first true science-fantasy works.[31] Isaac Asimov and Carl Sagan considered Somnium the first science-fiction story; it depicts a journey to the Moon and how the Earth's motion is seen from there.[32][33]\n",
      "\n",
      "Following the 17th-century development of the novel as a literary form, Mary Shelley's Frankenstein (1818) and The Last Man (1826) helped define the form of the science-fiction novel. Brian Aldiss has argued that Frankenstein was the first work of science fiction.[34][35] Edgar Allan Poe wrote several stories considered to be science fiction, including \"The Unparalleled Adventure of One Hans Pfaall\" (1835), which featured a trip to the Moon.[36][37] Jules Verne was noted for his attention to detail and scientific accuracy, especially in Twenty Thousand Leagues Under the Sea (1870).[38][39][40][41] In 1887, the novel El anacronópete by Spanish author Enrique Gaspar y Rimbau introduced the first time machine.[42][43] An early French/Belgian science fiction writer was J.-H. Rosny aîné (1856–1940). Rosny's masterpiece is Les Navigateurs de l'Infini (The Navigators of Infinity) (1925) in which the word astronaut, \"astronautique\", was used for the first time.[44][45]\n",
      "\n",
      "Many critics consider H. G. Wells one of science fiction's most important authors,[38][46] or even \"the Shakespeare of science fiction.\"[47] His notable science-fiction works include The Time Machine (1895), The Island of Doctor Moreau (1896), The Invisible Man (1897), and The War of the Worlds (1898). His science fiction imagined alien invasion, biological engineering, invisibility, and time travel. In his non-fiction futurologist works he predicted the advent of airplanes, military tanks, nuclear weapons, satellite television, space travel, and something resembling the World Wide Web.[48]\n",
      "\n",
      "Edgar Rice Burroughs' A Princess of Mars, published in 1912, was the first of his three-decade-long planetary romance series of Barsoom novels, which were set on Mars and featured John Carter as the hero.[49] These novels were predecessors to YA novels, and drew inspiration from European science fiction and American Western novels.[50]\n",
      "\n",
      "In 1924, We by Russian writer Yevgeny Zamyatin, one of the first dystopian novels, was published.[51] It describes a world of harmony and conformity within a united totalitarian state. It influenced the emergence of dystopia as a literary genre.[52]\n",
      "\n",
      "In 1926, Hugo Gernsback published the first American science-fiction magazine, Amazing Stories. In its first issue he wrote:\n",
      "\n",
      "By 'scientifiction' I mean the Jules Verne, H. G. Wells and Edgar Allan Poe type of story—a charming romance intermingled with scientific fact and prophetic vision... Not only do these amazing tales make tremendously interesting reading—they are always instructive. They supply knowledge... in a very palatable form... New adventures pictured for us in the scientifiction of today are not at all impossible of realization tomorrow... Many great science stories destined to be of historical interest are still to be written... Posterity will point to them as having blazed a new trail, not only in literature and fiction, but progress as well.[53][54][55]\n",
      "\n",
      "In 1928, E. E. \"Doc\" Smith's first published work, The Skylark of Space, written in collaboration with Lee Hawkins Garby, appeared in Amazing Stories. It is often called the first great space opera.[56] The same year, Philip Francis Nowlan's original Buck Rogers story, Armageddon 2419, also appeared in Amazing Stories. This was followed by a Buck Rogers comic strip, the first serious science-fiction comic.[57]\n",
      "\n",
      "In 1937, John W. Campbell became editor of Astounding Science Fiction, an event that is sometimes considered the beginning of the Golden Age of Science Fiction, which was characterized by stories celebrating scientific achievement and progress.[58][59] In 1942, Isaac Asimov started his Foundation series, which chronicles the rise and fall of galactic empires and introduced psychohistory.[60][61] The series was later awarded a one-time Hugo Award for \"Best All-Time Series.\"[62][63] The \"Golden Age\" is often said to have ended in 1946, but sometimes the late 1940s and the 1950s are included.[64]\n",
      "\n",
      "Theodore Sturgeon's More Than Human (1953) explored possible future human evolution.[65][66][67] In 1957, Andromeda: A Space-Age Tale by the Russian writer and paleontologist Ivan Yefremov presented a view of a future interstellar communist civilization and is considered one of the most important Soviet science fiction novels.[68][69] In 1959, Robert A. Heinlein's Starship Troopers marked a departure from his earlier juvenile stories and novels.[70] It is one of the first and most influential examples of military science fiction,[71][72] and introduced the concept of powered armor exoskeletons.[73][74][75] The German space opera series Perry Rhodan, written by various authors, started in 1961 with an account of the first Moon landing[76] and has since expanded in space to multiple universes, and in time by billions of years.[77] It has become the most popular science fiction book series of all time.[78]\n",
      "\n",
      "In the 1960s and 1970s, New Wave science fiction was known for its embrace of a high degree of experimentation, both in form and in content, and a highbrow and self-consciously \"literary\" or \"artistic\" sensibility.[79][80] In 1961, Solaris by Stanisław Lem was published in Poland.[81] The novel dealt with the theme of human limitations as its characters attempted to study a seemingly intelligent ocean on a newly discovered planet.[82][83] 1965's Dune by Frank Herbert featured a much more complex and detailed imagined future society than had previous science fiction.[84]\n",
      "\n",
      "In 1967 Anne McCaffrey began her Dragonriders of Pern science fantasy series.[85] Two of the novellas included in the first novel, Dragonflight, made McCaffrey the first woman to win a Hugo or Nebula Award.[86] In 1968, Philip K. Dick's Do Androids Dream of Electric Sheep?, was published. It is the literary source of the Blade Runner movie franchise.[87][88] 1969's The Left Hand of Darkness by Ursula K. Le Guin was set on a planet in which the inhabitants have no fixed gender. It is one of the most influential examples of social science fiction, feminist science fiction, and anthropological science fiction.[89][90][91]\n",
      "\n",
      "In 1979, Science Fiction World began publication in the People's Republic of China.[92] It dominates the Chinese science fiction magazine market, at one time claiming a circulation of 300,000 copies per issue and an estimated 3–5 readers per copy (giving it a total estimated readership of at least 1 million), making it the world's most popular science fiction periodical.[93] In 1984, William Gibson's first novel, Neuromancer, helped popularize cyberpunk and the word \"cyberspace,\" a term he originally coined in his 1982 short story Burning Chrome.[94][95][96] In 1986, Shards of Honor by Lois McMaster Bujold began her Vorkosigan Saga.[97][98] 1992's Snow Crash by Neal Stephenson predicted immense social upheaval due to the information revolution.[99]\n",
      "\n",
      "In 2007, Liu Cixin's novel, The Three-Body Problem, was published in China. It was translated into English by Ken Liu and published by Tor Books in 2014,[100] and won the 2015 Hugo Award for Best Novel,[101] making Liu the first Asian writer to win the award.[102]\n",
      "\n",
      "Emerging themes in late 20th and early 21st century science fiction include environmental issues, the implications of the Internet and the expanding information universe, questions about biotechnology, nanotechnology, and post-scarcity societies.[103][104] Recent trends and subgenres include steampunk,[105] biopunk,[106][107] and mundane science fiction.[108][109]\n"
     ]
    }
   ],
   "source": [
    "print(text)"
   ]
  },
  {
   "cell_type": "code",
   "execution_count": 20,
   "metadata": {},
   "outputs": [],
   "source": [
    "doc = nlp(text=text)"
   ]
  },
  {
   "cell_type": "code",
   "execution_count": 21,
   "metadata": {},
   "outputs": [
    {
     "name": "stdout",
     "output_type": "stream",
     "text": [
      "Science fiction (sometimes shortened to sf or sci-fi) is a genre of speculative fiction, which typically deals with imaginative and futuristic concepts such as advanced science and technology, space exploration, time travel, parallel universes, and extraterrestrial life. Science fiction can trace its roots to ancient mythology.[1] It is related to fantasy, horror, and superhero fiction and contains many subgenres. Its exact definition has long been disputed among authors, critics, scholars, and readers.\n",
      "\n",
      "Science fiction, in literature, film, television, and other media, has become popular and influential over much of the world. It has been called the \"literature of ideas,\" and often explores the potential consequences of scientific, social, and technological innovations.[2][3] It sometimes serves as an outlet to facilitate future scientific and technological innovations.[4] Besides providing entertainment, it can also criticize present-day society and explore alternatives. It is also often said to inspire a \"sense of wonder.\"[5]\n",
      "\n",
      "Definitions\n",
      "Main article: Definitions of science fiction\n",
      "According to Isaac Asimov, \"Science fiction can be defined as that branch of literature which deals with the reaction of human beings to changes in science and technology.\"[6] Robert A. Heinlein wrote that \"A handy short definition of almost all science fiction might read: realistic speculation about possible future events, based solidly on adequate knowledge of the real world, past and present, and on a thorough understanding of the nature and significance of the scientific method.\"[7]\n",
      "\n",
      "American science fiction author and editor Lester del Rey wrote, \"Even the devoted aficionado or fan—has a hard time trying to explain what science fiction is,\" and the lack of a \"full satisfactory definition\" is because \"there are no easily delineated limits to science fiction.\"[8]\n",
      "\n",
      "Part of the reason that it is so difficult to pin down an agreed definition of science fiction is because there is a tendency among science fiction enthusiasts to act as their own arbiter in deciding what exactly constitutes science fiction.[9] Damon Knight summed up the difficulty, saying \"Science fiction is what we point to when we say it.\"[10] David Seed says it may be more useful to talk about science fiction as the intersection of other, more concrete, genres and subgenres.[11]\n",
      "\n",
      "Alternative terms\n",
      "Further information: Skiffy\n",
      "Forrest J Ackerman has been credited with first using the term \"sci-fi\" (analogous to the then-trendy \"hi-fi\") in about 1954;[12] the first known use in print was a description of Donovan's Brain by movie critic Jesse Zunser in January 1954.[13] As science fiction entered popular culture, writers and fans active in the field came to associate the term with low-budget, low-tech \"B-movies\" and with low-quality pulp science fiction.[14][15][16] By the 1970s, critics within the field, such as Damon Knight and Terry Carr, were using \"sci fi\" to distinguish hack-work from serious science fiction.[17] Peter Nicholls writes that \"SF\" (or \"sf\") is \"the preferred abbreviation within the community of sf writers and readers.\"[18] Robert Heinlein found even \"science fiction\" insufficient for certain types of works in this genre, and suggested the term speculative fiction to be used instead for those that are more \"serious\" or \"thoughtful.\"[19]\n",
      "\n",
      "History\n",
      "Main articles: History of science fiction and Timeline of science fiction\n",
      "\n",
      "H. G. Wells\n",
      "Some scholars assert that science fiction had its beginnings in ancient times, when the line between myth and fact was blurred.[20] Written in the 2nd century CE by the satirist Lucian, A True Story contains many themes and tropes characteristic of modern science fiction, including travel to other worlds, extraterrestrial lifeforms, interplanetary warfare, and artificial life. Some consider it the first science-fiction novel.[21] Some of the stories from The Arabian Nights,[22][23] along with the 10th-century The Tale of the Bamboo Cutter[23] and Ibn al-Nafis's 13th-century Theologus Autodidactus,[24] also contain elements of science fiction.\n",
      "\n",
      "Written during the Scientific Revolution and the Age of Enlightenment, Johannes Kepler's Somnium (1634), Francis Bacon's New Atlantis (1627),[25] Athanasius Kircher's Itinerarium extaticum (1656),[26] Cyrano de Bergerac's Comical History of the States and Empires of the Moon (1657) and The States and Empires of the Sun (1662), Margaret Cavendish's \"The Blazing World\" (1666),[27][28][29][30] Jonathan Swift's Gulliver's Travels (1726), Ludvig Holberg's Nicolai Klimii Iter Subterraneum (1741) and Voltaire's Micromégas (1752) are sometimes regarded as some of the first true science-fantasy works.[31] Isaac Asimov and Carl Sagan considered Somnium the first science-fiction story; it depicts a journey to the Moon and how the Earth's motion is seen from there.[32][33]\n",
      "\n",
      "Following the 17th-century development of the novel as a literary form, Mary Shelley's Frankenstein (1818) and The Last Man (1826) helped define the form of the science-fiction novel. Brian Aldiss has argued that Frankenstein was the first work of science fiction.[34][35] Edgar Allan Poe wrote several stories considered to be science fiction, including \"The Unparalleled Adventure of One Hans Pfaall\" (1835), which featured a trip to the Moon.[36][37] Jules Verne was noted for his attention to detail and scientific accuracy, especially in Twenty Thousand Leagues Under the Sea (1870).[38][39][40][41] In 1887, the novel El anacronópete by Spanish author Enrique Gaspar y Rimbau introduced the first time machine.[42][43] An early French/Belgian science fiction writer was J.-H. Rosny aîné (1856–1940). Rosny's masterpiece is Les Navigateurs de l'Infini (The Navigators of Infinity) (1925) in which the word astronaut, \"astronautique\", was used for the first time.[44][45]\n",
      "\n",
      "Many critics consider H. G. Wells one of science fiction's most important authors,[38][46] or even \"the Shakespeare of science fiction.\"[47] His notable science-fiction works include The Time Machine (1895), The Island of Doctor Moreau (1896), The Invisible Man (1897), and The War of the Worlds (1898). His science fiction imagined alien invasion, biological engineering, invisibility, and time travel. In his non-fiction futurologist works he predicted the advent of airplanes, military tanks, nuclear weapons, satellite television, space travel, and something resembling the World Wide Web.[48]\n",
      "\n",
      "Edgar Rice Burroughs' A Princess of Mars, published in 1912, was the first of his three-decade-long planetary romance series of Barsoom novels, which were set on Mars and featured John Carter as the hero.[49] These novels were predecessors to YA novels, and drew inspiration from European science fiction and American Western novels.[50]\n",
      "\n",
      "In 1924, We by Russian writer Yevgeny Zamyatin, one of the first dystopian novels, was published.[51] It describes a world of harmony and conformity within a united totalitarian state. It influenced the emergence of dystopia as a literary genre.[52]\n",
      "\n",
      "In 1926, Hugo Gernsback published the first American science-fiction magazine, Amazing Stories. In its first issue he wrote:\n",
      "\n",
      "By 'scientifiction' I mean the Jules Verne, H. G. Wells and Edgar Allan Poe type of story—a charming romance intermingled with scientific fact and prophetic vision... Not only do these amazing tales make tremendously interesting reading—they are always instructive. They supply knowledge... in a very palatable form... New adventures pictured for us in the scientifiction of today are not at all impossible of realization tomorrow... Many great science stories destined to be of historical interest are still to be written... Posterity will point to them as having blazed a new trail, not only in literature and fiction, but progress as well.[53][54][55]\n",
      "\n",
      "In 1928, E. E. \"Doc\" Smith's first published work, The Skylark of Space, written in collaboration with Lee Hawkins Garby, appeared in Amazing Stories. It is often called the first great space opera.[56] The same year, Philip Francis Nowlan's original Buck Rogers story, Armageddon 2419, also appeared in Amazing Stories. This was followed by a Buck Rogers comic strip, the first serious science-fiction comic.[57]\n",
      "\n",
      "In 1937, John W. Campbell became editor of Astounding Science Fiction, an event that is sometimes considered the beginning of the Golden Age of Science Fiction, which was characterized by stories celebrating scientific achievement and progress.[58][59] In 1942, Isaac Asimov started his Foundation series, which chronicles the rise and fall of galactic empires and introduced psychohistory.[60][61] The series was later awarded a one-time Hugo Award for \"Best All-Time Series.\"[62][63] The \"Golden Age\" is often said to have ended in 1946, but sometimes the late 1940s and the 1950s are included.[64]\n",
      "\n",
      "Theodore Sturgeon's More Than Human (1953) explored possible future human evolution.[65][66][67] In 1957, Andromeda: A Space-Age Tale by the Russian writer and paleontologist Ivan Yefremov presented a view of a future interstellar communist civilization and is considered one of the most important Soviet science fiction novels.[68][69] In 1959, Robert A. Heinlein's Starship Troopers marked a departure from his earlier juvenile stories and novels.[70] It is one of the first and most influential examples of military science fiction,[71][72] and introduced the concept of powered armor exoskeletons.[73][74][75] The German space opera series Perry Rhodan, written by various authors, started in 1961 with an account of the first Moon landing[76] and has since expanded in space to multiple universes, and in time by billions of years.[77] It has become the most popular science fiction book series of all time.[78]\n",
      "\n",
      "In the 1960s and 1970s, New Wave science fiction was known for its embrace of a high degree of experimentation, both in form and in content, and a highbrow and self-consciously \"literary\" or \"artistic\" sensibility.[79][80] In 1961, Solaris by Stanisław Lem was published in Poland.[81] The novel dealt with the theme of human limitations as its characters attempted to study a seemingly intelligent ocean on a newly discovered planet.[82][83] 1965's Dune by Frank Herbert featured a much more complex and detailed imagined future society than had previous science fiction.[84]\n",
      "\n",
      "In 1967 Anne McCaffrey began her Dragonriders of Pern science fantasy series.[85] Two of the novellas included in the first novel, Dragonflight, made McCaffrey the first woman to win a Hugo or Nebula Award.[86] In 1968, Philip K. Dick's Do Androids Dream of Electric Sheep?, was published. It is the literary source of the Blade Runner movie franchise.[87][88] 1969's The Left Hand of Darkness by Ursula K. Le Guin was set on a planet in which the inhabitants have no fixed gender. It is one of the most influential examples of social science fiction, feminist science fiction, and anthropological science fiction.[89][90][91]\n",
      "\n",
      "In 1979, Science Fiction World began publication in the People's Republic of China.[92] It dominates the Chinese science fiction magazine market, at one time claiming a circulation of 300,000 copies per issue and an estimated 3–5 readers per copy (giving it a total estimated readership of at least 1 million), making it the world's most popular science fiction periodical.[93] In 1984, William Gibson's first novel, Neuromancer, helped popularize cyberpunk and the word \"cyberspace,\" a term he originally coined in his 1982 short story Burning Chrome.[94][95][96] In 1986, Shards of Honor by Lois McMaster Bujold began her Vorkosigan Saga.[97][98] 1992's Snow Crash by Neal Stephenson predicted immense social upheaval due to the information revolution.[99]\n",
      "\n",
      "In 2007, Liu Cixin's novel, The Three-Body Problem, was published in China. It was translated into English by Ken Liu and published by Tor Books in 2014,[100] and won the 2015 Hugo Award for Best Novel,[101] making Liu the first Asian writer to win the award.[102]\n",
      "\n",
      "Emerging themes in late 20th and early 21st century science fiction include environmental issues, the implications of the Internet and the expanding information universe, questions about biotechnology, nanotechnology, and post-scarcity societies.[103][104] Recent trends and subgenres include steampunk,[105] biopunk,[106][107] and mundane science fiction.[108][109]\n"
     ]
    }
   ],
   "source": [
    "print(doc)"
   ]
  },
  {
   "attachments": {},
   "cell_type": "markdown",
   "metadata": {},
   "source": [
    "### 2. Identifying only Names and Location from the paragraphs"
   ]
  },
  {
   "cell_type": "code",
   "execution_count": 22,
   "metadata": {},
   "outputs": [
    {
     "name": "stdout",
     "output_type": "stream",
     "text": [
      "Isaac Asimov : PERSON\n",
      "Robert A. Heinlein : PERSON\n",
      "Lester del Rey : PERSON\n",
      "Damon Knight : PERSON\n",
      "David Seed : PERSON\n",
      "Forrest J Ackerman : PERSON\n",
      "Jesse Zunser : PERSON\n",
      "Damon Knight : PERSON\n",
      "Terry Carr : PERSON\n",
      "fiction.[17] : PERSON\n",
      "Peter Nicholls : PERSON\n",
      "Robert Heinlein : PERSON\n",
      "H. G. Wells : PERSON\n",
      "Lucian : PERSON\n",
      "Ibn al-Nafis's : PERSON\n",
      "Francis Bacon's : PERSON\n",
      "Itinerarium : GPE\n",
      "Margaret Cavendish's : PERSON\n",
      "Jonathan Swift's : PERSON\n",
      "Ludvig Holberg's : PERSON\n",
      "Voltaire : PERSON\n",
      "Micromégas : PERSON\n",
      "Isaac Asimov : PERSON\n",
      "Carl Sagan : PERSON\n",
      "Moon : PERSON\n",
      "Mary Shelley's : PERSON\n",
      "Frankenstein : PERSON\n",
      "Brian Aldiss : PERSON\n",
      "Frankenstein : PERSON\n",
      "Edgar Allan Poe : PERSON\n",
      "Jules Verne : PERSON\n",
      "Enrique Gaspar : PERSON\n",
      "Rimbau : PERSON\n",
      "H. G. Wells : PERSON\n",
      "Shakespeare : PERSON\n",
      "The Island of Doctor : GPE\n",
      "Moreau : PERSON\n",
      "Edgar Rice Burroughs' : PERSON\n",
      "John Carter : PERSON\n",
      "Yevgeny Zamyatin : PERSON\n",
      "Hugo Gernsback : PERSON\n",
      "the Jules Verne : PERSON\n",
      "H. G. Wells : PERSON\n",
      "Edgar Allan Poe : PERSON\n",
      "Smith : GPE\n",
      "Lee Hawkins Garby : PERSON\n",
      "Buck Rogers : PERSON\n",
      "Armageddon 2419 : PERSON\n",
      "John W. Campbell : PERSON\n",
      "progress.[58][59] : PERSON\n",
      "Isaac Asimov : PERSON\n",
      "Hugo Award : PERSON\n",
      "Theodore Sturgeon's : PERSON\n",
      "Ivan Yefremov : PERSON\n",
      "Robert A. Heinlein's : PERSON\n",
      "Perry Rhodan : PERSON\n",
      "New Wave : GPE\n",
      "Solaris : PERSON\n",
      "Stanisław Lem : PERSON\n",
      "Frank Herbert : PERSON\n",
      "Anne McCaffrey : PERSON\n",
      "Nebula Award.[86 : PERSON\n",
      "Philip K. Dick's : PERSON\n",
      "Blade Runner : PERSON\n",
      "the People's Republic of China.[92 : GPE\n",
      "William Gibson's : PERSON\n",
      "Lois McMaster Bujold : PERSON\n",
      "Vorkosigan : PERSON\n",
      "Neal Stephenson : PERSON\n",
      "Liu Cixin's : PERSON\n",
      "China : GPE\n",
      "Ken Liu : PERSON\n",
      "Tor Books : PERSON\n",
      "Liu : PERSON\n"
     ]
    }
   ],
   "source": [
    "# printing only names and locations\n",
    "for ent in doc.ents:\n",
    "    if ent.label_ == \"PERSON\" or ent.label_ == \"GPE\":\n",
    "        print(ent.text,\":\", ent.label_)\n",
    "    \n",
    "    # print(ent.text, ent.label_)"
   ]
  },
  {
   "attachments": {},
   "cell_type": "markdown",
   "metadata": {},
   "source": [
    "### 3. Custom Entity"
   ]
  },
  {
   "cell_type": "code",
   "execution_count": null,
   "metadata": {},
   "outputs": [],
   "source": []
  }
 ],
 "metadata": {
  "kernelspec": {
   "display_name": "Python 3",
   "language": "python",
   "name": "python3"
  },
  "language_info": {
   "codemirror_mode": {
    "name": "ipython",
    "version": 3
   },
   "file_extension": ".py",
   "mimetype": "text/x-python",
   "name": "python",
   "nbconvert_exporter": "python",
   "pygments_lexer": "ipython3",
   "version": "3.9.5"
  },
  "orig_nbformat": 4
 },
 "nbformat": 4,
 "nbformat_minor": 2
}
