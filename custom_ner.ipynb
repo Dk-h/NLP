{
 "cells": [
  {
   "attachments": {},
   "cell_type": "markdown",
   "metadata": {},
   "source": [
    "### 1. Setting-up spacy Environment"
   ]
  },
  {
   "cell_type": "code",
   "execution_count": 29,
   "metadata": {},
   "outputs": [],
   "source": [
    "# importing spacy\n",
    "import spacy\n",
    "\n",
    "# loading the language model for tekenizatoin and stuffs from spacy\n",
    "nlp = spacy.load('en_core_web_sm')\n",
    "\n",
    "# reading texts from txt file\n",
    "with open(\"employees.txt\", \"r\", encoding=\"utf-8\") as f:\n",
    "  text = f.read()\n",
    "  "
   ]
  },
  {
   "cell_type": "code",
   "execution_count": 30,
   "metadata": {},
   "outputs": [
    {
     "name": "stdout",
     "output_type": "stream",
     "text": [
      "**Paragraph 1:**\n",
      "\n",
      "John Smith works as a software engineer at Google in Mountain View, California. He has a base salary of $100,000 per year, plus a bonus of up to $20,000. He is responsible for developing new software features for Google's search engine.\n",
      "\n",
      "**Paragraph 2:**\n",
      "\n",
      "Mary Jones is a marketing manager at Acme Corporation in Anytown, USA. She has a base salary of $75,000 per year, plus a bonus of up to $15,000. She is responsible for developing and executing marketing campaigns for Acme's products.\n",
      "\n",
      "**Paragraph 3:**\n",
      "\n",
      "Susan Brown is a doctor at Mercy Hospital in Chicago, Illinois. She has a base salary of $150,000 per year, plus bonuses and benefits. She is a general practitioner and sees patients of all ages.\n",
      "\n",
      "**Paragraph 4:**\n",
      "\n",
      "Peter Green is a lawyer at Jones & Smith Law Firm in New York City. He has a base salary of $200,000 per year, plus bonuses and benefits. He specializes in corporate law and has represented some of the biggest companies in the world.\n",
      "\n",
      "\n"
     ]
    }
   ],
   "source": [
    "print(text)"
   ]
  },
  {
   "cell_type": "code",
   "execution_count": 31,
   "metadata": {},
   "outputs": [],
   "source": [
    "doc = nlp(text=text)"
   ]
  },
  {
   "cell_type": "code",
   "execution_count": 32,
   "metadata": {},
   "outputs": [
    {
     "name": "stdout",
     "output_type": "stream",
     "text": [
      "**Paragraph 1:**\n",
      "\n",
      "John Smith works as a software engineer at Google in Mountain View, California. He has a base salary of $100,000 per year, plus a bonus of up to $20,000. He is responsible for developing new software features for Google's search engine.\n",
      "\n",
      "**Paragraph 2:**\n",
      "\n",
      "Mary Jones is a marketing manager at Acme Corporation in Anytown, USA. She has a base salary of $75,000 per year, plus a bonus of up to $15,000. She is responsible for developing and executing marketing campaigns for Acme's products.\n",
      "\n",
      "**Paragraph 3:**\n",
      "\n",
      "Susan Brown is a doctor at Mercy Hospital in Chicago, Illinois. She has a base salary of $150,000 per year, plus bonuses and benefits. She is a general practitioner and sees patients of all ages.\n",
      "\n",
      "**Paragraph 4:**\n",
      "\n",
      "Peter Green is a lawyer at Jones & Smith Law Firm in New York City. He has a base salary of $200,000 per year, plus bonuses and benefits. He specializes in corporate law and has represented some of the biggest companies in the world.\n",
      "\n",
      "\n"
     ]
    }
   ],
   "source": [
    "print(doc)"
   ]
  },
  {
   "attachments": {},
   "cell_type": "markdown",
   "metadata": {},
   "source": [
    "### 2. Identifying only Names and Location from the paragraphs"
   ]
  },
  {
   "cell_type": "code",
   "execution_count": 33,
   "metadata": {},
   "outputs": [
    {
     "name": "stdout",
     "output_type": "stream",
     "text": [
      "John Smith : PERSON\n",
      "Mountain View : GPE\n",
      "California : GPE\n",
      "Mary Jones : PERSON\n",
      "Anytown : GPE\n",
      "USA : GPE\n",
      "Susan Brown : PERSON\n",
      "Chicago : GPE\n",
      "Illinois : GPE\n",
      "Peter Green : PERSON\n",
      "New York City : GPE\n"
     ]
    }
   ],
   "source": [
    "# printing only names and locations\n",
    "\n",
    "for ent in doc.ents:\n",
    "    if ent.label_ == \"PERSON\" or ent.label_ == \"GPE\":\n",
    "        print(ent.text,\":\", ent.label_)\n",
    "    \n",
    "    \n"
   ]
  },
  {
   "cell_type": "code",
   "execution_count": 34,
   "metadata": {},
   "outputs": [
    {
     "data": {
      "text/html": [
       "<span class=\"tex2jax_ignore\"><div class=\"entities\" style=\"line-height: 2.5; direction: ltr\">**Paragraph 1:**</br></br>\n",
       "<mark class=\"entity\" style=\"background: #aa9cfc; padding: 0.45em 0.6em; margin: 0 0.25em; line-height: 1; border-radius: 0.35em;\">\n",
       "    John Smith\n",
       "    <span style=\"font-size: 0.8em; font-weight: bold; line-height: 1; border-radius: 0.35em; vertical-align: middle; margin-left: 0.5rem\">PERSON</span>\n",
       "</mark>\n",
       " works as a software engineer at \n",
       "<mark class=\"entity\" style=\"background: #7aecec; padding: 0.45em 0.6em; margin: 0 0.25em; line-height: 1; border-radius: 0.35em;\">\n",
       "    Google\n",
       "    <span style=\"font-size: 0.8em; font-weight: bold; line-height: 1; border-radius: 0.35em; vertical-align: middle; margin-left: 0.5rem\">ORG</span>\n",
       "</mark>\n",
       " in \n",
       "<mark class=\"entity\" style=\"background: #feca74; padding: 0.45em 0.6em; margin: 0 0.25em; line-height: 1; border-radius: 0.35em;\">\n",
       "    Mountain View\n",
       "    <span style=\"font-size: 0.8em; font-weight: bold; line-height: 1; border-radius: 0.35em; vertical-align: middle; margin-left: 0.5rem\">GPE</span>\n",
       "</mark>\n",
       ", \n",
       "<mark class=\"entity\" style=\"background: #feca74; padding: 0.45em 0.6em; margin: 0 0.25em; line-height: 1; border-radius: 0.35em;\">\n",
       "    California\n",
       "    <span style=\"font-size: 0.8em; font-weight: bold; line-height: 1; border-radius: 0.35em; vertical-align: middle; margin-left: 0.5rem\">GPE</span>\n",
       "</mark>\n",
       ". He has a base salary of $\n",
       "<mark class=\"entity\" style=\"background: #e4e7d2; padding: 0.45em 0.6em; margin: 0 0.25em; line-height: 1; border-radius: 0.35em;\">\n",
       "    100,000\n",
       "    <span style=\"font-size: 0.8em; font-weight: bold; line-height: 1; border-radius: 0.35em; vertical-align: middle; margin-left: 0.5rem\">MONEY</span>\n",
       "</mark>\n",
       " per year, plus a bonus of \n",
       "<mark class=\"entity\" style=\"background: #e4e7d2; padding: 0.45em 0.6em; margin: 0 0.25em; line-height: 1; border-radius: 0.35em;\">\n",
       "    up to $20,000\n",
       "    <span style=\"font-size: 0.8em; font-weight: bold; line-height: 1; border-radius: 0.35em; vertical-align: middle; margin-left: 0.5rem\">MONEY</span>\n",
       "</mark>\n",
       ". He is responsible for developing new software features for \n",
       "<mark class=\"entity\" style=\"background: #7aecec; padding: 0.45em 0.6em; margin: 0 0.25em; line-height: 1; border-radius: 0.35em;\">\n",
       "    Google\n",
       "    <span style=\"font-size: 0.8em; font-weight: bold; line-height: 1; border-radius: 0.35em; vertical-align: middle; margin-left: 0.5rem\">ORG</span>\n",
       "</mark>\n",
       "'s search engine.</br></br>**Paragraph 2:**</br></br>\n",
       "<mark class=\"entity\" style=\"background: #aa9cfc; padding: 0.45em 0.6em; margin: 0 0.25em; line-height: 1; border-radius: 0.35em;\">\n",
       "    Mary Jones\n",
       "    <span style=\"font-size: 0.8em; font-weight: bold; line-height: 1; border-radius: 0.35em; vertical-align: middle; margin-left: 0.5rem\">PERSON</span>\n",
       "</mark>\n",
       " is a marketing manager at \n",
       "<mark class=\"entity\" style=\"background: #7aecec; padding: 0.45em 0.6em; margin: 0 0.25em; line-height: 1; border-radius: 0.35em;\">\n",
       "    Acme Corporation\n",
       "    <span style=\"font-size: 0.8em; font-weight: bold; line-height: 1; border-radius: 0.35em; vertical-align: middle; margin-left: 0.5rem\">ORG</span>\n",
       "</mark>\n",
       " in \n",
       "<mark class=\"entity\" style=\"background: #feca74; padding: 0.45em 0.6em; margin: 0 0.25em; line-height: 1; border-radius: 0.35em;\">\n",
       "    Anytown\n",
       "    <span style=\"font-size: 0.8em; font-weight: bold; line-height: 1; border-radius: 0.35em; vertical-align: middle; margin-left: 0.5rem\">GPE</span>\n",
       "</mark>\n",
       ", \n",
       "<mark class=\"entity\" style=\"background: #feca74; padding: 0.45em 0.6em; margin: 0 0.25em; line-height: 1; border-radius: 0.35em;\">\n",
       "    USA\n",
       "    <span style=\"font-size: 0.8em; font-weight: bold; line-height: 1; border-radius: 0.35em; vertical-align: middle; margin-left: 0.5rem\">GPE</span>\n",
       "</mark>\n",
       ". She has a base salary of $\n",
       "<mark class=\"entity\" style=\"background: #e4e7d2; padding: 0.45em 0.6em; margin: 0 0.25em; line-height: 1; border-radius: 0.35em;\">\n",
       "    75,000\n",
       "    <span style=\"font-size: 0.8em; font-weight: bold; line-height: 1; border-radius: 0.35em; vertical-align: middle; margin-left: 0.5rem\">MONEY</span>\n",
       "</mark>\n",
       " per year, plus a bonus of \n",
       "<mark class=\"entity\" style=\"background: #e4e7d2; padding: 0.45em 0.6em; margin: 0 0.25em; line-height: 1; border-radius: 0.35em;\">\n",
       "    up to $15,000\n",
       "    <span style=\"font-size: 0.8em; font-weight: bold; line-height: 1; border-radius: 0.35em; vertical-align: middle; margin-left: 0.5rem\">MONEY</span>\n",
       "</mark>\n",
       ". She is responsible for developing and executing marketing campaigns for \n",
       "<mark class=\"entity\" style=\"background: #7aecec; padding: 0.45em 0.6em; margin: 0 0.25em; line-height: 1; border-radius: 0.35em;\">\n",
       "    Acme\n",
       "    <span style=\"font-size: 0.8em; font-weight: bold; line-height: 1; border-radius: 0.35em; vertical-align: middle; margin-left: 0.5rem\">ORG</span>\n",
       "</mark>\n",
       "'s products.</br></br>**Paragraph 3:**</br></br>\n",
       "<mark class=\"entity\" style=\"background: #aa9cfc; padding: 0.45em 0.6em; margin: 0 0.25em; line-height: 1; border-radius: 0.35em;\">\n",
       "    Susan Brown\n",
       "    <span style=\"font-size: 0.8em; font-weight: bold; line-height: 1; border-radius: 0.35em; vertical-align: middle; margin-left: 0.5rem\">PERSON</span>\n",
       "</mark>\n",
       " is a doctor at \n",
       "<mark class=\"entity\" style=\"background: #7aecec; padding: 0.45em 0.6em; margin: 0 0.25em; line-height: 1; border-radius: 0.35em;\">\n",
       "    Mercy Hospital\n",
       "    <span style=\"font-size: 0.8em; font-weight: bold; line-height: 1; border-radius: 0.35em; vertical-align: middle; margin-left: 0.5rem\">ORG</span>\n",
       "</mark>\n",
       " in \n",
       "<mark class=\"entity\" style=\"background: #feca74; padding: 0.45em 0.6em; margin: 0 0.25em; line-height: 1; border-radius: 0.35em;\">\n",
       "    Chicago\n",
       "    <span style=\"font-size: 0.8em; font-weight: bold; line-height: 1; border-radius: 0.35em; vertical-align: middle; margin-left: 0.5rem\">GPE</span>\n",
       "</mark>\n",
       ", \n",
       "<mark class=\"entity\" style=\"background: #feca74; padding: 0.45em 0.6em; margin: 0 0.25em; line-height: 1; border-radius: 0.35em;\">\n",
       "    Illinois\n",
       "    <span style=\"font-size: 0.8em; font-weight: bold; line-height: 1; border-radius: 0.35em; vertical-align: middle; margin-left: 0.5rem\">GPE</span>\n",
       "</mark>\n",
       ". She has a base salary of $\n",
       "<mark class=\"entity\" style=\"background: #e4e7d2; padding: 0.45em 0.6em; margin: 0 0.25em; line-height: 1; border-radius: 0.35em;\">\n",
       "    150,000\n",
       "    <span style=\"font-size: 0.8em; font-weight: bold; line-height: 1; border-radius: 0.35em; vertical-align: middle; margin-left: 0.5rem\">MONEY</span>\n",
       "</mark>\n",
       " per year, plus bonuses and benefits. She is a general practitioner and sees patients of all ages.</br></br>**Paragraph 4:**</br></br>\n",
       "<mark class=\"entity\" style=\"background: #aa9cfc; padding: 0.45em 0.6em; margin: 0 0.25em; line-height: 1; border-radius: 0.35em;\">\n",
       "    Peter Green\n",
       "    <span style=\"font-size: 0.8em; font-weight: bold; line-height: 1; border-radius: 0.35em; vertical-align: middle; margin-left: 0.5rem\">PERSON</span>\n",
       "</mark>\n",
       " is a lawyer at \n",
       "<mark class=\"entity\" style=\"background: #7aecec; padding: 0.45em 0.6em; margin: 0 0.25em; line-height: 1; border-radius: 0.35em;\">\n",
       "    Jones &amp; Smith Law Firm\n",
       "    <span style=\"font-size: 0.8em; font-weight: bold; line-height: 1; border-radius: 0.35em; vertical-align: middle; margin-left: 0.5rem\">ORG</span>\n",
       "</mark>\n",
       " in \n",
       "<mark class=\"entity\" style=\"background: #feca74; padding: 0.45em 0.6em; margin: 0 0.25em; line-height: 1; border-radius: 0.35em;\">\n",
       "    New York City\n",
       "    <span style=\"font-size: 0.8em; font-weight: bold; line-height: 1; border-radius: 0.35em; vertical-align: middle; margin-left: 0.5rem\">GPE</span>\n",
       "</mark>\n",
       ". He has a base salary of $\n",
       "<mark class=\"entity\" style=\"background: #e4e7d2; padding: 0.45em 0.6em; margin: 0 0.25em; line-height: 1; border-radius: 0.35em;\">\n",
       "    200,000\n",
       "    <span style=\"font-size: 0.8em; font-weight: bold; line-height: 1; border-radius: 0.35em; vertical-align: middle; margin-left: 0.5rem\">MONEY</span>\n",
       "</mark>\n",
       " per year, plus bonuses and benefits. He specializes in corporate law and has represented some of the biggest companies in the world.</br></br></div></span>"
      ],
      "text/plain": [
       "<IPython.core.display.HTML object>"
      ]
     },
     "metadata": {},
     "output_type": "display_data"
    }
   ],
   "source": [
    "from spacy import displacy\n",
    "displacy.render(doc,style='ent')"
   ]
  },
  {
   "attachments": {},
   "cell_type": "markdown",
   "metadata": {},
   "source": [
    "### 3. Custom Component "
   ]
  },
  {
   "cell_type": "code",
   "execution_count": 35,
   "metadata": {},
   "outputs": [
    {
     "name": "stdout",
     "output_type": "stream",
     "text": [
      "John Smith : PERSON\n",
      "Mountain View : GPE\n",
      "California : GPE\n",
      "Mary Jones : PERSON\n",
      "Anytown : GPE\n",
      "USA : GPE\n",
      "Susan Brown : PERSON\n",
      "Chicago : GPE\n",
      "Illinois : GPE\n",
      "Peter Green : PERSON\n",
      "New York City : GPE\n"
     ]
    }
   ],
   "source": [
    "# printing only names and locations\n",
    "\n",
    "for ent in doc.ents:\n",
    "    if ent.label_ == \"PERSON\" or ent.label_ == \"GPE\":\n",
    "        print(ent.text,\":\", ent.label_)\n",
    "    \n",
    "    "
   ]
  },
  {
   "cell_type": "code",
   "execution_count": 36,
   "metadata": {},
   "outputs": [],
   "source": [
    "from spacy.language import Language"
   ]
  },
  {
   "attachments": {},
   "cell_type": "markdown",
   "metadata": {},
   "source": [
    "### 4. Custom Entities"
   ]
  },
  {
   "attachments": {},
   "cell_type": "markdown",
   "metadata": {},
   "source": [
    "##### Removing an Entity"
   ]
  },
  {
   "cell_type": "code",
   "execution_count": 37,
   "metadata": {},
   "outputs": [],
   "source": [
    "#function to remove the GPE entity\n",
    "@Language.component(\"remove_gpe\")\n",
    "def remove_gpe(doc):\n",
    "    original_ents = list(doc.ents)\n",
    "    for ent in doc.ents:\n",
    "        if ent.label_ == \"GPE\":\n",
    "            original_ents.remove(ent)\n",
    "    doc.ents = original_ents\n",
    "    return (doc)"
   ]
  },
  {
   "cell_type": "code",
   "execution_count": 38,
   "metadata": {},
   "outputs": [
    {
     "data": {
      "text/plain": [
       "<function __main__.remove_gpe(doc)>"
      ]
     },
     "execution_count": 38,
     "metadata": {},
     "output_type": "execute_result"
    }
   ],
   "source": [
    "nlp.add_pipe(\"remove_gpe\")"
   ]
  },
  {
   "cell_type": "code",
   "execution_count": 41,
   "metadata": {},
   "outputs": [
    {
     "name": "stdout",
     "output_type": "stream",
     "text": [
      "John Smith : PERSON\n",
      "Mary Jones : PERSON\n",
      "Susan Brown : PERSON\n",
      "Peter Green : PERSON\n"
     ]
    }
   ],
   "source": [
    "doc = nlp(text=text)\n",
    "for ent in doc.ents:\n",
    "    if ent.label_ == \"PERSON\" or ent.label_ == \"GPE\":\n",
    "        print(ent.text,\":\", ent.label_)\n",
    "    "
   ]
  },
  {
   "attachments": {},
   "cell_type": "markdown",
   "metadata": {},
   "source": [
    "The above output removes all the GPE entity from the paragraph"
   ]
  },
  {
   "attachments": {},
   "cell_type": "markdown",
   "metadata": {},
   "source": [
    "##### Adding an entity by finding patterns with the help of Re-Gex"
   ]
  },
  {
   "cell_type": "code",
   "execution_count": 4,
   "metadata": {},
   "outputs": [],
   "source": [
    "import re"
   ]
  },
  {
   "cell_type": "code",
   "execution_count": 11,
   "metadata": {},
   "outputs": [
    {
     "name": "stdout",
     "output_type": "stream",
     "text": [
      "**Paragraph 1**\n",
      "\n",
      "Shri Ram is a traditional Indian name that means \"lord of the universe\".\n",
      "It is a common name for Hindu men, and it is often shortened to \"Shri\" or \"Ram\".\n",
      "Shri Ram is a very popular name in India, and it is often associated with strength, power, and prosperity.\n",
      "His telephone number is 2345678901 \n",
      "\n",
      "**Paragraph 2**\n",
      "\n",
      "Shri Lakshmi is a traditional Indian name that means \"goddess of wealth\".\n",
      "It is a common name for Hindu women, and it is often shortened to \"Lakshmi\" or \"Lali\".\n",
      "Shri Lakshmi is a very popular name in India, and it is often associated with beauty, prosperity, and good fortune.\n",
      "Her telephone number is 9876543210\n",
      "\n"
     ]
    }
   ],
   "source": [
    "with open(\"telephone.txt\", \"r\", encoding=\"utf-8\") as f:\n",
    "  text = f.read()\n",
    "print(text)"
   ]
  },
  {
   "cell_type": "code",
   "execution_count": 12,
   "metadata": {},
   "outputs": [],
   "source": [
    "# pattern = r\"^[0-9]{3}-[0-9]{3}-[0-9]{4}$\"\n",
    "pattern = r\"Shri [A-Z]\\w+\""
   ]
  },
  {
   "cell_type": "code",
   "execution_count": 24,
   "metadata": {},
   "outputs": [
    {
     "name": "stdout",
     "output_type": "stream",
     "text": [
      "<re.Match object; span=(17, 25), match='Shri Ram'>\n",
      "<re.Match object; span=(171, 179), match='Shri Ram'>\n",
      "<re.Match object; span=(332, 344), match='Shri Lakshmi'>\n",
      "<re.Match object; span=(493, 505), match='Shri Lakshmi'>\n"
     ]
    }
   ],
   "source": [
    "# finding matches from the text\n",
    "matches = re.finditer(pattern,text)\n",
    "for match in matches:\n",
    "    print(match)"
   ]
  },
  {
   "cell_type": "code",
   "execution_count": 38,
   "metadata": {},
   "outputs": [],
   "source": [
    "# creating a blank model\n",
    "nlp = spacy.blank(\"en\")\n",
    "\n",
    "doc = nlp(text)\n",
    "\n",
    "# converting all the entities into list \n",
    "original_ents = list(doc.ents)\n",
    "\n",
    "# new entity empty list\n",
    "hindu_ents = []\n",
    "\n",
    "# finding our desired location of the entity with the pattern \n",
    "pattern = r\"Shri [A-Z]\\w+\"\n",
    "for match in re.finditer(pattern=pattern,string=doc.text):\n",
    "    start, end = match.span()\n",
    "    span = doc.char_span(start,end)\n",
    "    \n",
    "    if span is not None:\n",
    "        hindu_ents.append((span.start, span.end, span.text))\n",
    "\n"
   ]
  },
  {
   "cell_type": "code",
   "execution_count": 41,
   "metadata": {},
   "outputs": [
    {
     "name": "stdout",
     "output_type": "stream",
     "text": [
      "[(7, 9, 'Shri Ram'), (48, 50, 'Shri Ram'), (85, 87, 'Shri Lakshmi'), (125, 127, 'Shri Lakshmi')]\n"
     ]
    }
   ],
   "source": [
    "# printing the tuples we extracted from the text\n",
    "print(hindu_ents)"
   ]
  },
  {
   "cell_type": "code",
   "execution_count": 40,
   "metadata": {},
   "outputs": [],
   "source": [
    "# now creating Custom Entity and Label using Span module\n",
    "from spacy.tokens import Span\n",
    "\n",
    "for ent in hindu_ents:\n",
    "    start, end, name = ent \n",
    "    temp_ent = Span(doc, start, end, label=\"Hindu\")\n",
    "    original_ents.append(temp_ent)\n",
    "\n",
    "# replacing the doc entities with original entities\n",
    "doc.ents = original_ents"
   ]
  },
  {
   "cell_type": "code",
   "execution_count": 29,
   "metadata": {},
   "outputs": [
    {
     "name": "stdout",
     "output_type": "stream",
     "text": [
      "Shri Ram Hindu\n",
      "Shri Ram Hindu\n",
      "Shri Lakshmi Hindu\n",
      "Shri Lakshmi Hindu\n"
     ]
    }
   ],
   "source": [
    "# Printing the Entities with Labels\n",
    "for ent in doc.ents:\n",
    "    print(ent.text, ent.label_)"
   ]
  },
  {
   "attachments": {},
   "cell_type": "markdown",
   "metadata": {},
   "source": [
    "#### 5. Using Language module adding the Custom Entities with Labels and adding to a blank model using the above code we Executed"
   ]
  },
  {
   "cell_type": "code",
   "execution_count": 42,
   "metadata": {},
   "outputs": [],
   "source": [
    "from spacy.language import Language\n",
    "\n",
    "@Language.component(\"hindu_ner\")\n",
    "def hindu_ner(doc):\n",
    "    pattern = r\"Shri [A-Z]\\w+\"\n",
    "    original_ents = list(doc.ents)\n",
    "    hindu_ents = []\n",
    "\n",
    "    for match in re.finditer(pattern=pattern,string=doc.text):\n",
    "        start, end = match.span()\n",
    "        span = doc.char_span(start,end)\n",
    "        \n",
    "        if span is not None:\n",
    "            hindu_ents.append((span.start, span.end, span.text))\n",
    "    \n",
    "    for ent in hindu_ents:\n",
    "        start, end, name = ent \n",
    "        temp_ent = Span(doc, start, end, label=\"Hindu\")\n",
    "        original_ents.append(temp_ent)\n",
    "\n",
    "    doc.ents = original_ents\n",
    "\n",
    "    return (doc)\n"
   ]
  },
  {
   "cell_type": "code",
   "execution_count": 33,
   "metadata": {},
   "outputs": [
    {
     "data": {
      "text/plain": [
       "<function __main__.hindu_ner(doc)>"
      ]
     },
     "execution_count": 33,
     "metadata": {},
     "output_type": "execute_result"
    }
   ],
   "source": [
    "# creating another blank model and adding a pipeline \n",
    "nlp2 = spacy.blank(\"en\")\n",
    "nlp2.add_pipe(\"hindu_ner\")"
   ]
  },
  {
   "cell_type": "code",
   "execution_count": 43,
   "metadata": {},
   "outputs": [
    {
     "name": "stdout",
     "output_type": "stream",
     "text": [
      "Shri Ram Hindu\n",
      "Shri Ram Hindu\n",
      "Shri Lakshmi Hindu\n",
      "Shri Lakshmi Hindu\n"
     ]
    }
   ],
   "source": [
    "doc2 = nlp2(text)\n",
    "for ent in doc2.ents:\n",
    "    print(ent.text,ent.label_)"
   ]
  },
  {
   "attachments": {},
   "cell_type": "markdown",
   "metadata": {},
   "source": [
    "# End"
   ]
  }
 ],
 "metadata": {
  "kernelspec": {
   "display_name": "Python 3",
   "language": "python",
   "name": "python3"
  },
  "language_info": {
   "codemirror_mode": {
    "name": "ipython",
    "version": 3
   },
   "file_extension": ".py",
   "mimetype": "text/x-python",
   "name": "python",
   "nbconvert_exporter": "python",
   "pygments_lexer": "ipython3",
   "version": "3.9.5"
  },
  "orig_nbformat": 4
 },
 "nbformat": 4,
 "nbformat_minor": 2
}
